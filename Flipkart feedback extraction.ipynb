{
 "cells": [
  {
   "cell_type": "code",
   "execution_count": 1,
   "metadata": {},
   "outputs": [],
   "source": [
    "import  requests\n",
    "from bs4 import BeautifulSoup as bs\n",
    "from urllib.request import  urlopen as ureq\n",
    "import pytube"
   ]
  },
  {
   "cell_type": "code",
   "execution_count": 9,
   "metadata": {},
   "outputs": [
    {
     "name": "stdout",
     "output_type": "stream",
     "text": [
      "Enter product nameLevis\n"
     ]
    }
   ],
   "source": [
    "searchString=input(\"Enter product name\")\n",
    "flipkart_url = \"https://www.flipkart.com/search?q=\" + searchString\n",
    "            "
   ]
  },
  {
   "cell_type": "code",
   "execution_count": 10,
   "metadata": {},
   "outputs": [],
   "source": [
    "uClient = ureq(flipkart_url)\n",
    "            "
   ]
  },
  {
   "cell_type": "code",
   "execution_count": 4,
   "metadata": {},
   "outputs": [],
   "source": [
    "flipkart_page=uClient.read()"
   ]
  },
  {
   "cell_type": "code",
   "execution_count": 5,
   "metadata": {},
   "outputs": [],
   "source": [
    "uClient.close()\n",
    "flipkart_html = bs(flipkart_page, \"html.parser\")\n",
    "bigboxes = flipkart_html.findAll(\"div\", {\"class\": \"_2pi5LC col-12-12\"})\n",
    "            "
   ]
  },
  {
   "cell_type": "code",
   "execution_count": 6,
   "metadata": {},
   "outputs": [],
   "source": [
    "comment_res=[]\n",
    "for i in range(3,9):\n",
    "    productLink = \"https://www.flipkart.com\" + bigboxes[i].div.div.div.a['href']\n",
    "    product_link=productLink.replace('/p/','/product-reviews/')  \n",
    "    l=len(\"marketplace=FLIPKART\")\n",
    "    end_index=product_link.find(\"marketplace=FLIPKART\")+l\n",
    "    pl=[]\n",
    "    for i in range(1,6):\n",
    "        pl.append(product_link[:end_index]+'&page='+str(i))\n",
    "    for j in pl:\n",
    "        prodRes = requests.get(j)\n",
    "        prod_html = bs(prodRes.text, \"html.parser\")\n",
    "        res=prod_html.find_all('div',{'class':'_6K-7Co'})\n",
    "        for r in res:\n",
    "            comment_res.append(r.text)\n",
    "\n",
    "    \n",
    "            \n",
    "    "
   ]
  },
  {
   "cell_type": "code",
   "execution_count": 8,
   "metadata": {},
   "outputs": [
    {
     "name": "stdout",
     "output_type": "stream",
     "text": [
      "['Nic..got it for 399/- Ony', \"Size is not perfect.metal finishing not as per expected by Levi's.\", 'gud', 'Perfect, Stylish, Worth.', 'Nice', 'Best belt ek number quality super', 'Good', 'Tq very good product I lv it awesome', 'after one week it become folded line...', 'Nice', 'This is very bad product according to price...', 'Best in this budget.. smooth, stylish and comfortable', 'Very Nice.', 'Amazing product thanks ekart and the delivery guy Mr. MONO KUMAR  he is trusted guy👋👋👋👋i like', 'Faltu leather belt . Real price 100rs', 'Size is not fiiting.. Expected 36 size.', 'Good but not looking like leather', 'Product is too good✌👌', 'Nice', 'perfect product', 'Product quality is too good...', 'Good quality product', \"Belt Buckle is poor quality I don't suggest\", 'Very nice and beautiful', 'awesome original', 'gud product', 'Nice', 'soft , comfortable', 'good quality product purchase at Rs. 900', 'good', 'just k', 'excellent', 'ok', 'Awesome quality', 'Good one', 'Super quality', 'good looking stylish belt quality is ossum', 'superb', 'worthy', 'good product', 'very nice', 'Quality is good.but length is too small.', 'Good product', 'Pretty good, Some might find it bit small in length but according to the style the length is proper I would say.Also it fits perfect looks so good.I purchased it for 349.', 'good.but size Very small', 'due to its curved buckle, belt edges r wear outed after every use.', 'Ohk not soo gud', 'product quality is good. but length is very less which I expected.', 'satisfied but had some minor defect', 'its premium pure leather.. very classy product', 'Good Quality', 'genuine product, good quality', 'Both size different but mentioned M size', 'Good and comfortable', 'Super. Quality', 'Awesome Quality', 'Great fit must try', 'Good one with this price....thnx flipkart', 'Nice product satisfied', \"They're super comfy. Worth the price.\", 'Good super', 'Nice', 'Awesome', 'Comfortable', 'Go for it nice one super comfy', 'Very nice', 'Ok product', 'really comfortable and good fit', 'Good comfort and fabric also fine. Value for money', 'Nice and comfortable', 'Received as expected', 'Good product', 'Very nice', 'Nice levis& ekart', 'very bad product don’t buy this product', 'Not too good but worth of money product.', 'Good quality', 'Best product ,no any complained', \"Great product recommend to all... Don't care about the negative reviews\", 'Better than Peter England', 'Awesome product', 'Not bad', 'Looks premium and satisfying. Size is also perfect 👌', 'Good product thanks flipkart', 'Quality is good but the main issue is size,you you better order one size larger as there is no return policy .', 'OMG 😱Best Quality of the fabric at this price range.', 'Very comfortable and very light and most important its belt.....too Good', 'Very poor quality material', '💯 orginal', 'Good product👌', 'Not bad', 'Very good 👍', 'Nice', 'Comfort.', 'Good product at this price. Black color is just outstanding.', 'Colour is fading', 'Great 😂😂😂🤣', 'So good', \"It's just ok\", 'Genuine product of levis and fabric is also good... Thank you flipkart', 'Loved the color and fabric quality.', 'Very good quality. Love it.', 'Awesome product 🤩', \"It's a wow purchase.\", 'Supereb qualit', 'Cloth quality very low', 'Wow nice product', 'Good', 'Awesome... 👌👌👌', 'Sup... must buy', 'Nice tshirt... But little loose to me', 'Average', 'use less', 'Love it', 'Superb!!', 'I was just surprised his quility and look Best✓✓', 'Style + comfort,excellent product 👌👌', 'Nice tshirt ♥️😍 go for it', 'Fabric is nice. Awesome product👍', 'Awesome product. Levi’s rocks always. Tshirt looks more beautiful than image.', 'Original & best quality fabric thank you flipcart', 'Nice and comfortable  😊', 'Awesome product.', 'Product is good', 'Comfortable', 'Nice one', 'Very comfortable product and highly good quality cloth', 'Good product.Thank you . I will write a review after  6 months.', 'Ok', 'Very good quality leather', 'Length inadequate', 'Nice product. Delivered on time', 'Good product. Must buy', 'Very nice design and good leather', 'best', 'Very good product😁😁🙏🙏', 'Old type', 'Good', 'This product is genuine and quite good. If you are thinking for buying a leather belt you can rely on it.', 'Good', 'Good', 'Ok', 'Good Quality', 'The belt is exactly the same as shown in the figure and made of leather', 'Ok ok', 'Good', 'Loved it.', \"It's tooo awsm😍\", '30 size perfect and look nice', 'Good quality belt but please check properly because these people are giving copy of products', \"I don't think it to be a genuine product as I bought another leather belt from Levis showroom and there is a huge difference leather quality.Really disappointed...\", 'super', 'Nice quality', 'good product', 'belt is nyc', 'The buckle erodes in a month and starts looking ugly. Buckle is of very bad quality', \"Levi leather Belt is a nice belt But Belt is a Scrachtes Mark Not A  Coming because is a Special leather belt But me use is Belt after On Day to the coming in the Scratches Mark's I Dont like is A Leather Belt Belt Scratches Marks\", \"Don't like it\", 'The size is little smaller', 'Delivery Boy was very much kind and helpfull...Very much satisfied', 'Quality was very poor', 'Superb belt', 'Very nice', 'Good', 'Best', 'Good QualityGenuine Product', 'Happy happy', 'Quality is good..', 'Nice leather', 'good👍🏻', 'Awesome', 'Nice', 'I like it very muchGood quality', 'Nice', 'Awesome product', 'Waisted money and very bad product', 'Very good product', 'Nice one', 'Nice product', 'Good quality 👍👌', 'leather quality not appeared genuine..', 'Leather quality is poor. It started coming off in just 3-4 days.', 'good', 'nice', 'nic', 'good and effective.but quality not too good jus good.cost if low will be appropriate..', 'fully satisfied', 'Scartch started after 5 days use', 'Good quality', 'very good', 'Not satisfied with this product. Looks ordinary and cheap.', 'leather quality is not good, within 1 use the skin is peleing', 'gud product', 'Belt quality is good but Flipkart delivery system is very very very bad, I’m ordered this at 4th October, Flipkart deliver this 13th October, westing too much time for waiting this', 'original one i got it', 'length is only issues...other wise it is good..will be reviewed further after 6 months of usage...', 'nice, colour is dark, near to dark black', 'nice & lovely product', 'Normal', 'Original Product', 'Very very good', 'Nice product', \"It's too good\", 'Poor quality.', \"Very low quality of Levi's jeans (made in Bangladesh) what is this I don't like this types of jeans\", 'Mast fitting', 'Colour not same', 'Triffic jeans', 'Nice', 'Dood', 'Good', 'Superb and braded product ,I am extremely happy', 'Excellent product, perfect fit and good quality', 'Good Jeans and correct figment', 'Good product', 'verrry nice jeans...osam', 'awsm product', 'Very bad quality', 'Original product Fitting is very good Thank u so much flipcart', 'Not good to help', 'nice fitting, good color. thanks flipkart.', 'good', 'awesome', 'Worst Quality colour got faded after single wash', 'Genuine product.']\n"
     ]
    }
   ],
   "source": [
    "print(comment_res)"
   ]
  }
 ],
 "metadata": {
  "kernelspec": {
   "display_name": "Python 3",
   "language": "python",
   "name": "python3"
  },
  "language_info": {
   "codemirror_mode": {
    "name": "ipython",
    "version": 3
   },
   "file_extension": ".py",
   "mimetype": "text/x-python",
   "name": "python",
   "nbconvert_exporter": "python",
   "pygments_lexer": "ipython3",
   "version": "3.8.3"
  }
 },
 "nbformat": 4,
 "nbformat_minor": 4
}
